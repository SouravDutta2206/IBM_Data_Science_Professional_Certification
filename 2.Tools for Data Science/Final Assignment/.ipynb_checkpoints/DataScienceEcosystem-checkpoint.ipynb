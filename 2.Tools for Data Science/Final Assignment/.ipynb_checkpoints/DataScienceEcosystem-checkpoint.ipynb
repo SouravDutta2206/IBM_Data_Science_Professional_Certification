{
 "cells": [
  {
   "cell_type": "markdown",
   "id": "5b29b159-520e-4397-9f5c-67291ed850be",
   "metadata": {},
   "source": [
    "<h1> Data Science Tools and Ecosystem</h1>"
   ]
  },
  {
   "cell_type": "markdown",
   "id": "6eacf0c5-315a-40e3-9a01-143677b67f6a",
   "metadata": {},
   "source": [
    "Hi, I am Sourav Dutta and this is my submission for the assessment<br>\n",
    "In this notebook, Data Science Tools and Ecosystem are summarized."
   ]
  },
  {
   "cell_type": "markdown",
   "id": "245ee3b9-7772-4b14-936d-96e085651ccb",
   "metadata": {},
   "source": [
    "<b>Objective:\n",
    "\n",
    "* List of Popular Data Science Languages\n",
    "* Commonly used libraries\n",
    "* commonly used tools\n",
    "* Jupyter notebook arthematic in python showcase"
   ]
  },
  {
   "cell_type": "markdown",
   "id": "5f1796b9-2eda-4ac1-8a27-ed56cd787a61",
   "metadata": {},
   "source": [
    "<h3>Some of the popular languages that Data Scientists use are:</h3>\n",
    "\n",
    "1. Python\n",
    "2. R\n",
    "3. SQL\n",
    "4. Scala\n",
    "5. Julia\n",
    "6. MATLAB\n"
   ]
  },
  {
   "cell_type": "markdown",
   "id": "866368b9-f0d4-4129-91fe-776ac6408e13",
   "metadata": {},
   "source": [
    "<h3>Some of the commonly used libraries used by Data Scientists include:</h3>\n",
    "\n",
    "1. Tensorflow\n",
    "\n",
    "2. Scikit-Learn\n",
    "\n",
    "3. MatplotLib\n",
    "\n",
    "4. Seaborn\n",
    "\n",
    "5. Pandas"
   ]
  },
  {
   "cell_type": "markdown",
   "id": "34f35d22-ccd1-4111-9fe1-f88abea8801f",
   "metadata": {},
   "source": [
    "|Data Science Tools|\n",
    "|------------------|\n",
    "|Jupyter Notebook|\n",
    "|RStudio|\n",
    "|Visual Studio Code|"
   ]
  },
  {
   "cell_type": "markdown",
   "id": "9689d127-99a0-422f-a5e6-7bbacbe95fd1",
   "metadata": {},
   "source": [
    "<h3>Below are a few examples of evaluating arithmetic expressions in Python</h3>"
   ]
  },
  {
   "cell_type": "code",
   "execution_count": 4,
   "id": "bf1908ef-7640-4e66-bae0-0aa99b8f1d45",
   "metadata": {},
   "outputs": [
    {
     "data": {
      "text/plain": [
       "17"
      ]
     },
     "execution_count": 4,
     "metadata": {},
     "output_type": "execute_result"
    }
   ],
   "source": [
    "# This a simple arithmetic expression to mutiply then add integers\n",
    "(3*4)+5"
   ]
  },
  {
   "cell_type": "markdown",
   "id": "a701d728-990d-4bc1-811a-5e13702df68e",
   "metadata": {},
   "source": [
    "<h3>Minute to hour converter</h3>"
   ]
  },
  {
   "cell_type": "code",
   "execution_count": 7,
   "id": "dad7b726-1252-4fe3-8869-8a048688d023",
   "metadata": {},
   "outputs": [
    {
     "name": "stdout",
     "output_type": "stream",
     "text": [
      "200 minute(s) is 3.3333333333333335 hr(s)\n"
     ]
    }
   ],
   "source": [
    "# This will convert 200 minutes to hours by diving by 60\n",
    "minute = 200\n",
    "hour = minute/60\n",
    "print(f'{minute} minute(s) is {hour} hr(s)')"
   ]
  },
  {
   "cell_type": "markdown",
   "id": "157783c3-c1a0-420f-a2ee-7c4bba264db7",
   "metadata": {},
   "source": [
    "<h2>Author</h2>\n",
    "Sourav Dutta"
   ]
  },
  {
   "cell_type": "code",
   "execution_count": null,
   "id": "c80a7eac-d843-40c0-8b20-befd1d744ad6",
   "metadata": {},
   "outputs": [],
   "source": []
  }
 ],
 "metadata": {
  "kernelspec": {
   "display_name": "Python 3 (ipykernel)",
   "language": "python",
   "name": "python3"
  },
  "language_info": {
   "codemirror_mode": {
    "name": "ipython",
    "version": 3
   },
   "file_extension": ".py",
   "mimetype": "text/x-python",
   "name": "python",
   "nbconvert_exporter": "python",
   "pygments_lexer": "ipython3",
   "version": "3.11.9"
  }
 },
 "nbformat": 4,
 "nbformat_minor": 5
}
